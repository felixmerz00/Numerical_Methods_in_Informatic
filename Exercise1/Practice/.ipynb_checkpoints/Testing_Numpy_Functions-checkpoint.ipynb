{
 "cells": [
  {
   "cell_type": "code",
   "execution_count": 1,
   "id": "94296643",
   "metadata": {},
   "outputs": [],
   "source": [
    "import numpy as np        "
   ]
  },
  {
   "cell_type": "code",
   "execution_count": 3,
   "id": "9e57778f",
   "metadata": {},
   "outputs": [],
   "source": [
    "A = np.array([[1, 2, 3],[4, 5, 6],[7, 8, 9]], dtype = np.single)"
   ]
  },
  {
   "cell_type": "code",
   "execution_count": 4,
   "id": "df397a74",
   "metadata": {},
   "outputs": [],
   "source": [
    "B = np.array([[1, 2, 3],[4, 5, 6],[7, 8, 9]])"
   ]
  },
  {
   "cell_type": "code",
   "execution_count": 5,
   "id": "a4be3aac",
   "metadata": {},
   "outputs": [],
   "source": [
    "C = np.array([[0, 2, 3],[4, 5, 6],[7, 8, 9]])"
   ]
  },
  {
   "cell_type": "code",
   "execution_count": 9,
   "id": "ab35869d",
   "metadata": {},
   "outputs": [
    {
     "data": {
      "text/plain": [
       "True"
      ]
     },
     "execution_count": 9,
     "metadata": {},
     "output_type": "execute_result"
    }
   ],
   "source": [
    "A.any()"
   ]
  },
  {
   "cell_type": "code",
   "execution_count": 10,
   "id": "3e400129",
   "metadata": {},
   "outputs": [
    {
     "data": {
      "text/plain": [
       "True"
      ]
     },
     "execution_count": 10,
     "metadata": {},
     "output_type": "execute_result"
    }
   ],
   "source": [
    "A.all()"
   ]
  },
  {
   "cell_type": "code",
   "execution_count": 11,
   "id": "340d189d",
   "metadata": {},
   "outputs": [
    {
     "data": {
      "text/plain": [
       "True"
      ]
     },
     "execution_count": 11,
     "metadata": {},
     "output_type": "execute_result"
    }
   ],
   "source": [
    "C.any()"
   ]
  },
  {
   "cell_type": "code",
   "execution_count": 12,
   "id": "b40a31d8",
   "metadata": {},
   "outputs": [
    {
     "data": {
      "text/plain": [
       "False"
      ]
     },
     "execution_count": 12,
     "metadata": {},
     "output_type": "execute_result"
    }
   ],
   "source": [
    "C.all()"
   ]
  },
  {
   "cell_type": "code",
   "execution_count": 16,
   "id": "4c1ea238",
   "metadata": {},
   "outputs": [
    {
     "data": {
      "text/plain": [
       "True"
      ]
     },
     "execution_count": 16,
     "metadata": {},
     "output_type": "execute_result"
    }
   ],
   "source": [
    "np.array_equal(A, B)"
   ]
  },
  {
   "cell_type": "code",
   "execution_count": 17,
   "id": "3c1d483b",
   "metadata": {},
   "outputs": [
    {
     "data": {
      "text/plain": [
       "False"
      ]
     },
     "execution_count": 17,
     "metadata": {},
     "output_type": "execute_result"
    }
   ],
   "source": [
    "np.array_equal(A, C)"
   ]
  },
  {
   "cell_type": "code",
   "execution_count": 21,
   "id": "258cbc63",
   "metadata": {},
   "outputs": [],
   "source": [
    "A[0][0]*=(1/2)"
   ]
  },
  {
   "cell_type": "code",
   "execution_count": 22,
   "id": "ebcb7c20",
   "metadata": {},
   "outputs": [
    {
     "data": {
      "text/plain": [
       "array([[0, 2, 3],\n",
       "       [4, 5, 6],\n",
       "       [7, 8, 9]])"
      ]
     },
     "execution_count": 22,
     "metadata": {},
     "output_type": "execute_result"
    }
   ],
   "source": [
    "A"
   ]
  },
  {
   "cell_type": "code",
   "execution_count": null,
   "id": "b480f29a",
   "metadata": {},
   "outputs": [],
   "source": []
  }
 ],
 "metadata": {
  "kernelspec": {
   "display_name": "Python 3 (ipykernel)",
   "language": "python",
   "name": "python3"
  },
  "language_info": {
   "codemirror_mode": {
    "name": "ipython",
    "version": 3
   },
   "file_extension": ".py",
   "mimetype": "text/x-python",
   "name": "python",
   "nbconvert_exporter": "python",
   "pygments_lexer": "ipython3",
   "version": "3.9.12"
  }
 },
 "nbformat": 4,
 "nbformat_minor": 5
}
