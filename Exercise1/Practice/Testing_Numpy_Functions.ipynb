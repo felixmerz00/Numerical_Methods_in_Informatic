{
 "cells": [
  {
   "cell_type": "code",
   "execution_count": 1,
   "id": "94296643",
   "metadata": {},
   "outputs": [],
   "source": [
    "import numpy as np        "
   ]
  },
  {
   "cell_type": "code",
   "execution_count": 35,
   "id": "9e57778f",
   "metadata": {},
   "outputs": [],
   "source": [
    "A = np.array([[1, 2, 3],[4, 5, 6],[7, 8, 9]], dtype = np.single)"
   ]
  },
  {
   "cell_type": "code",
   "execution_count": 36,
   "id": "df397a74",
   "metadata": {},
   "outputs": [],
   "source": [
    "B = np.array([[1, 2, 3],[4, 5, 6],[7, 8, 9]])"
   ]
  },
  {
   "cell_type": "code",
   "execution_count": 37,
   "id": "a4be3aac",
   "metadata": {},
   "outputs": [],
   "source": [
    "C = np.array([[0, 2, 3],[4, 5, 6],[7, 8, 9]])"
   ]
  },
  {
   "cell_type": "code",
   "execution_count": 38,
   "id": "ab35869d",
   "metadata": {},
   "outputs": [
    {
     "data": {
      "text/plain": [
       "True"
      ]
     },
     "execution_count": 38,
     "metadata": {},
     "output_type": "execute_result"
    }
   ],
   "source": [
    "A.any()"
   ]
  },
  {
   "cell_type": "code",
   "execution_count": 39,
   "id": "3e400129",
   "metadata": {},
   "outputs": [
    {
     "data": {
      "text/plain": [
       "True"
      ]
     },
     "execution_count": 39,
     "metadata": {},
     "output_type": "execute_result"
    }
   ],
   "source": [
    "A.all()"
   ]
  },
  {
   "cell_type": "code",
   "execution_count": 40,
   "id": "340d189d",
   "metadata": {},
   "outputs": [
    {
     "data": {
      "text/plain": [
       "True"
      ]
     },
     "execution_count": 40,
     "metadata": {},
     "output_type": "execute_result"
    }
   ],
   "source": [
    "C.any()"
   ]
  },
  {
   "cell_type": "code",
   "execution_count": 41,
   "id": "d0aea2e3",
   "metadata": {},
   "outputs": [
    {
     "data": {
      "text/plain": [
       "False"
      ]
     },
     "execution_count": 41,
     "metadata": {},
     "output_type": "execute_result"
    }
   ],
   "source": [
    "C.all()"
   ]
  },
  {
   "cell_type": "code",
   "execution_count": 42,
   "id": "3b925596",
   "metadata": {},
   "outputs": [
    {
     "data": {
      "text/plain": [
       "True"
      ]
     },
     "execution_count": 42,
     "metadata": {},
     "output_type": "execute_result"
    }
   ],
   "source": [
    "np.array_equal(A, B)"
   ]
  },
  {
   "cell_type": "code",
   "execution_count": 43,
   "id": "6d0d8b38",
   "metadata": {},
   "outputs": [
    {
     "data": {
      "text/plain": [
       "False"
      ]
     },
     "execution_count": 43,
     "metadata": {},
     "output_type": "execute_result"
    }
   ],
   "source": [
    "np.array_equal(A, C)"
   ]
  },
  {
   "cell_type": "code",
   "execution_count": 44,
   "id": "d096a0f5",
   "metadata": {},
   "outputs": [],
   "source": [
    "A[0][0]*=(1/2)"
   ]
  },
  {
   "cell_type": "code",
   "execution_count": 45,
   "id": "4f2a6edc",
   "metadata": {},
   "outputs": [
    {
     "data": {
      "text/plain": [
       "array([[0.5, 2. , 3. ],\n",
       "       [4. , 5. , 6. ],\n",
       "       [7. , 8. , 9. ]], dtype=float32)"
      ]
     },
     "execution_count": 45,
     "metadata": {},
     "output_type": "execute_result"
    }
   ],
   "source": [
    "A"
   ]
  },
  {
   "cell_type": "code",
   "execution_count": null,
   "id": "8f3f364a",
   "metadata": {},
   "outputs": [],
   "source": []
  },
  {
   "cell_type": "code",
   "execution_count": null,
   "id": "a6dc6195",
   "metadata": {},
   "outputs": [],
   "source": []
  }
 ],
 "metadata": {
  "kernelspec": {
   "display_name": "Python 3 (ipykernel)",
   "language": "python",
   "name": "python3"
  },
  "language_info": {
   "codemirror_mode": {
    "name": "ipython",
    "version": 3
   },
   "file_extension": ".py",
   "mimetype": "text/x-python",
   "name": "python",
   "nbconvert_exporter": "python",
   "pygments_lexer": "ipython3",
   "version": "3.9.12"
  }
 },
 "nbformat": 4,
 "nbformat_minor": 5
}
