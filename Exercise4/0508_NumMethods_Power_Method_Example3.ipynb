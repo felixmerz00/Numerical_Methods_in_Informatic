{
 "cells": [
  {
   "cell_type": "code",
   "execution_count": 26,
   "id": "e1ba5311",
   "metadata": {},
   "outputs": [],
   "source": [
    "# Example 1 from the slides 0508_Power_Method"
   ]
  },
  {
   "cell_type": "code",
   "execution_count": 27,
   "id": "9a4a64cd",
   "metadata": {},
   "outputs": [],
   "source": [
    "import numpy as np"
   ]
  },
  {
   "cell_type": "code",
   "execution_count": 28,
   "id": "8623fb4e",
   "metadata": {},
   "outputs": [],
   "source": [
    "A = np.array([[1.8, 0.8],[0.2,1.2]])"
   ]
  },
  {
   "cell_type": "code",
   "execution_count": 29,
   "id": "0f497198",
   "metadata": {},
   "outputs": [],
   "source": [
    "b = np.array([-0.5, 1])"
   ]
  },
  {
   "cell_type": "code",
   "execution_count": 30,
   "id": "7a536012",
   "metadata": {},
   "outputs": [],
   "source": [
    "for i in range(7):\n",
    "    b = np.matmul(A, b)"
   ]
  },
  {
   "cell_type": "code",
   "execution_count": 31,
   "id": "4d3eb708",
   "metadata": {},
   "outputs": [
    {
     "name": "stdout",
     "output_type": "stream",
     "text": [
      "[50.3 13.7]\n"
     ]
    }
   ],
   "source": [
    "print(b)"
   ]
  },
  {
   "cell_type": "code",
   "execution_count": null,
   "id": "e46bbc7c",
   "metadata": {},
   "outputs": [],
   "source": []
  },
  {
   "cell_type": "code",
   "execution_count": null,
   "id": "77b5f571",
   "metadata": {},
   "outputs": [],
   "source": []
  },
  {
   "cell_type": "code",
   "execution_count": null,
   "id": "108c720e",
   "metadata": {},
   "outputs": [],
   "source": []
  }
 ],
 "metadata": {
  "kernelspec": {
   "display_name": "Python 3 (ipykernel)",
   "language": "python",
   "name": "python3"
  },
  "language_info": {
   "codemirror_mode": {
    "name": "ipython",
    "version": 3
   },
   "file_extension": ".py",
   "mimetype": "text/x-python",
   "name": "python",
   "nbconvert_exporter": "python",
   "pygments_lexer": "ipython3",
   "version": "3.9.8"
  }
 },
 "nbformat": 4,
 "nbformat_minor": 5
}
